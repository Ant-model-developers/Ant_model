{
 "cells": [
  {
   "cell_type": "markdown",
   "id": "d181c50e-d040-4447-be7c-0a2f25db8645",
   "metadata": {},
   "source": [
    "# Initialization\n",
    "\n",
    "The initialization of the ProcessLLM takes place within a chatbot-interface in a gradio-app.This gradio app can be found in the folder Chatbot-interface under the file Gradio_app.py. The gradio app can be started by executing the following commands in the terminal:\n",
    "\n",
    "    conda activate evaluation\n",
    "    cd /home/[...]/Chatbot-interface/\n",
    "    python Gradio_app.py\n",
    "    \n",
    "Then the public url has to be copied into the browser to access the webui. Now you can access the chatbot interface and interact with the ProcessLLM. To analyse a process, you have to copy the XML-code of the process into the webapp. A detailed description on how the qualitative evaluation was conducted is described in the \n"
   ]
  }
 ],
 "metadata": {
  "kernelspec": {
   "display_name": "Python 3 - Cuda (ipykernel)",
   "language": "python",
   "name": "python3-jr"
  },
  "language_info": {
   "codemirror_mode": {
    "name": "ipython",
    "version": 3
   },
   "file_extension": ".py",
   "mimetype": "text/x-python",
   "name": "python",
   "nbconvert_exporter": "python",
   "pygments_lexer": "ipython3",
   "version": "3.9.7"
  }
 },
 "nbformat": 4,
 "nbformat_minor": 5
}
